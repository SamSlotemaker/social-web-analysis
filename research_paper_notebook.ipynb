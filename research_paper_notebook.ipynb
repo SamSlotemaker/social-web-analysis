{
 "cells": [
  {
   "cell_type": "markdown",
   "metadata": {
    "id": "b9md1l85NKKr"
   },
   "source": [
    "*****************************************************************\n",
    "#  Research paper\n",
    "- Authors: Paul Koks, Izzie He, Lisanne van Vliet, Sam Slotemaker\n",
    "- TAs: Sandro Barres-Hamers, Alexander Schmatz, Márton Bodó and Danae Mitsea.\n",
    "*****************************************************************"
   ]
  },
  {
   "cell_type": "markdown",
   "metadata": {
    "id": "QCYcbwYYNKK1"
   },
   "source": [
    "## Installing the needed packages\n",
    "The following 2 cells install and import the needed packages\n"
   ]
  },
  {
   "cell_type": "code",
   "execution_count": 42,
   "metadata": {
    "colab": {
     "base_uri": "https://localhost:8080/"
    },
    "id": "fD0fk-DkNKK2",
    "outputId": "4c5d92f6-7b69-4d13-eeee-65564d5ec33e",
    "tags": []
   },
   "outputs": [
    {
     "name": "stdout",
     "output_type": "stream",
     "text": [
      "Requirement already satisfied: nltk in /mnt/d/Vrije Universiteit/jaar2/Social Web/socialEnv/lib/python3.8/site-packages (3.9.1)\n",
      "Requirement already satisfied: tqdm in /mnt/d/Vrije Universiteit/jaar2/Social Web/socialEnv/lib/python3.8/site-packages (from nltk) (4.67.1)\n",
      "Requirement already satisfied: joblib in /mnt/d/Vrije Universiteit/jaar2/Social Web/socialEnv/lib/python3.8/site-packages (from nltk) (1.4.2)\n",
      "Requirement already satisfied: click in /mnt/d/Vrije Universiteit/jaar2/Social Web/socialEnv/lib/python3.8/site-packages (from nltk) (8.1.7)\n",
      "Requirement already satisfied: regex>=2021.8.3 in /mnt/d/Vrije Universiteit/jaar2/Social Web/socialEnv/lib/python3.8/site-packages (from nltk) (2024.11.6)\n",
      "Collecting scikit-learn\n",
      "  Downloading scikit_learn-1.3.2-cp38-cp38-manylinux_2_17_x86_64.manylinux2014_x86_64.whl (11.1 MB)\n",
      "\u001b[K     |████████████████████████████████| 11.1 MB 4.3 MB/s eta 0:00:01\n",
      "\u001b[?25hRequirement already satisfied: joblib>=1.1.1 in /mnt/d/Vrije Universiteit/jaar2/Social Web/socialEnv/lib/python3.8/site-packages (from scikit-learn) (1.4.2)\n",
      "Requirement already satisfied: scipy>=1.5.0 in /mnt/d/Vrije Universiteit/jaar2/Social Web/socialEnv/lib/python3.8/site-packages (from scikit-learn) (1.10.1)\n",
      "Collecting threadpoolctl>=2.0.0\n",
      "  Downloading threadpoolctl-3.5.0-py3-none-any.whl (18 kB)\n",
      "Requirement already satisfied: numpy<2.0,>=1.17.3 in /mnt/d/Vrije Universiteit/jaar2/Social Web/socialEnv/lib/python3.8/site-packages (from scikit-learn) (1.24.4)\n",
      "Installing collected packages: threadpoolctl, scikit-learn\n",
      "Successfully installed scikit-learn-1.3.2 threadpoolctl-3.5.0\n"
     ]
    }
   ],
   "source": [
    "!pip install nltk\n",
    "!pip install scikit-learn"
   ]
  },
  {
   "cell_type": "code",
   "execution_count": 4,
   "metadata": {},
   "outputs": [],
   "source": [
    "from nltk.sentiment.util import *\n",
    "from nltk.sentiment.vader import SentimentIntensityAnalyzer\n",
    "nltk.download('vader_lexicon')\n",
    "\n",
    "import matplotlib.pyplot as plt\n",
    "import numpy as np"
   ]
  },
  {
   "cell_type": "markdown",
   "metadata": {},
   "source": [
    "## Store all comments from the CSV files with their corresponding movie ID\n",
    "This cell gets all data from the comment CSVs and puts it inside a map by its movie ID, so it can later be easily extracted"
   ]
  },
  {
   "cell_type": "code",
   "execution_count": 18,
   "metadata": {},
   "outputs": [
    {
     "name": "stdout",
     "output_type": "stream",
     "text": [
      "All comments are parsed from 40 files and are stored inside the comments_by_movie_id variable!\n"
     ]
    }
   ],
   "source": [
    "import csv\n",
    "import os\n",
    "\n",
    "directory = 'datasets/comments'\n",
    "comments_by_movie_id = {}\n",
    "# all fileNames must be [movieId].csv, where movieId is the ID from the dataset row, to make this work\n",
    "files_parsed = 0\n",
    "for filename in os.listdir(directory):\n",
    "    if filename.endswith('.csv'): \n",
    "        filepath = os.path.join(directory, filename)\n",
    "        with open(filepath, 'r') as file:\n",
    "            csv_reader = csv.DictReader(file)\n",
    "            data = [row for row in csv_reader]\n",
    "            fileName = filename.split('.')[0];\n",
    "            comments_by_movie_id[fileName] = data\n",
    "            files_parsed += 1\n",
    "\n",
    "print(f\"All comments are parsed from {files_parsed} files and are stored inside the comments_by_movie_id variable!\")"
   ]
  },
  {
   "cell_type": "markdown",
   "metadata": {},
   "source": [
    "## Store the average sentiment of the trailer comments\n",
    "This cell will analyse all comments and store their sentiment score"
   ]
  },
  {
   "cell_type": "code",
   "execution_count": 22,
   "metadata": {},
   "outputs": [
    {
     "name": "stdout",
     "output_type": "stream",
     "text": [
      "no comments found for:\n",
      "739405\n",
      "no comments found for:\n",
      "840326\n",
      "All sentiments are analysed and stored inside the sentiment_by_movie_id variable!\n"
     ]
    }
   ],
   "source": [
    "from collections import Counter\n",
    "sid = SentimentIntensityAnalyzer()\n",
    "\n",
    "sentiment_by_movie_id = {}\n",
    "\n",
    "for movieId, comments in comments_by_movie_id.items():\n",
    "    sentiment_total = 0\n",
    "    for comment in comments:\n",
    "        sentence = comment['text']\n",
    "        ss = sid.polarity_scores(sentence)\n",
    "        sentiment_total += ss['compound']\n",
    "        average_sentiment = 0;\n",
    "\n",
    "    # some comment files are broken so added this check to not break the code\n",
    "    if len(comments) != 0:\n",
    "        average_sentiment = sentiment_total / len(comments)\n",
    "    else: \n",
    "        print('no comments found for:')\n",
    "        print(movieId)\n",
    "        \n",
    "    sentiment_by_movie_id[movieId] = average_sentiment\n",
    "\n",
    "print(\"All sentiments are analysed and stored inside the sentiment_by_movie_id variable!\")"
   ]
  },
  {
   "cell_type": "markdown",
   "metadata": {},
   "source": [
    "## Analysis\n",
    "The cell below takes our 40 movies, then, for every movie it plots it against the trailer score number "
   ]
  },
  {
   "cell_type": "code",
   "execution_count": 90,
   "metadata": {},
   "outputs": [
    {
     "data": {
      "image/png": "[encoded data removed]",
      "text/plain": [
       "<Figure size 640x480 with 1 Axes>"
      ]
     },
     "metadata": {},
     "output_type": "display_data"
    }
   ],
   "source": [
    "with open('datasets/40MoviesDataSet.csv', 'r') as file:\n",
    "    csv_reader = csv.DictReader(file)\n",
    "    movie_data = [row for row in csv_reader]\n",
    "\n",
    "def getTrailerViews(movie):\n",
    "    viewCount = int(movie['viewCount'])\n",
    "    return viewCount\n",
    "\n",
    "def getMovieBoxOffice(movie):\n",
    "    return int(movie['revenue'])\n",
    "\n",
    "    \n",
    "box_office = [getMovieBoxOffice(movie) for movie in movie_data]\n",
    "trailer_views = [getTrailerViews(movie) for movie in movie_data]\n",
    "\n",
    "plt.scatter(box_office, trailer_score, s=10)\n",
    "\n",
    "plt.xlabel(\"Movie revenue\")\n",
    "plt.ylabel(\"Trailer views\")\n",
    "\n",
    "plt.show()"
   ]
  },
  {
   "cell_type": "markdown",
   "metadata": {},
   "source": [
    "### Correlation\n",
    "The cell below takes the movie box office & trailer score and checks if there is a correlation between the two"
   ]
  },
  {
   "cell_type": "code",
   "execution_count": 91,
   "metadata": {},
   "outputs": [
    {
     "name": "stdout",
     "output_type": "stream",
     "text": [
      "correlation number is 0.7752875522335961.\n"
     ]
    }
   ],
   "source": [
    "# Calculate Pearson correlation\n",
    "correlation = np.corrcoef(box_office, trailer_views)[0, 1]\n",
    "print(f\"correlation number is {correlation}.\")"
   ]
  },
  {
   "cell_type": "markdown",
   "metadata": {},
   "source": [
    "The cell below also take the trailer like ratio and sentiment score into account and shows a correlation_matrix between the variables"
   ]
  },
  {
   "cell_type": "code",
   "execution_count": 92,
   "metadata": {},
   "outputs": [
    {
     "name": "stdout",
     "output_type": "stream",
     "text": [
      "                 box office  trailer views  like ratio  sentiment score\n",
      "box office         1.000000       0.750023    0.471155         0.282987\n",
      "trailer views      0.750023       1.000000    0.210647         0.641641\n",
      "like ratio         0.471155       0.210647    1.000000         0.266497\n",
      "sentiment score    0.282987       0.641641    0.266497         1.000000\n"
     ]
    }
   ],
   "source": [
    "import pandas as pd\n",
    "from sklearn.linear_model import LinearRegression\n",
    "\n",
    "def getSentimentScore(movie):\n",
    "    sentimentScore = sentiment_by_movie_id[movie['id']]\n",
    "    return sentimentScore\n",
    "    \n",
    "def getTrailerLikeRatio(movie):\n",
    "    return int(movie['likeCount']) / int(movie['viewCount'])\n",
    "\n",
    "trailer_like_ratios = [getTrailerLikeRatio(movie) for movie in movie_data]\n",
    "trailer_sentiment_score = [getSentimentScore(movie) for movie in movie_data]\n",
    "\n",
    "x = np.column_stack((trailer_score, trailer_like_ratios, trailer_sentiment_score))\n",
    "y = np.array(box_office)\n",
    "\n",
    "# Fit a linear regression model\n",
    "model = LinearRegression()\n",
    "model.fit(x, y)\n",
    "\n",
    "# # Coefficients indicate the influence of each variable\n",
    "# print(\"Coefficients:\", model.coef_)\n",
    "# print(\"Intercept:\", model.intercept_)\n",
    "# print(\"R-squared:\", model.score(x, y))  # Measure of how well the model fits\n",
    "\n",
    "\n",
    "# Create a dataframe for easier correlation analysis\n",
    "data = pd.DataFrame({\n",
    "    \"box office\": box_office,\n",
    "    \"trailer views\": trailer_score,\n",
    "    \"like ratio\": trailer_like_ratios,\n",
    "    \"sentiment score\": trailer_sentiment_score,\n",
    "})\n",
    "\n",
    "# Compute the correlation matrix\n",
    "correlation_matrix = data.corr()\n",
    "print(correlation_matrix)\n"
   ]
  },
  {
   "cell_type": "markdown",
   "metadata": {},
   "source": [
    "We can also visualise this correlation matrix with a heatmap"
   ]
  },
  {
   "cell_type": "code",
   "execution_count": 93,
   "metadata": {},
   "outputs": [
    {
     "data": {
      "image/png": "[encoded data removed]",
      "text/plain": [
       "<Figure size 640x480 with 2 Axes>"
      ]
     },
     "metadata": {},
     "output_type": "display_data"
    }
   ],
   "source": [
    "import matplotlib.pyplot as plt\n",
    "\n",
    "fig = plt.figure()\n",
    "ax = fig.add_subplot(111)\n",
    "cax = ax.matshow(correlation_matrix,cmap='coolwarm', vmin=-1, vmax=1)\n",
    "fig.colorbar(cax)\n",
    "ticks = np.arange(0,len(data.columns),1)\n",
    "ax.set_xticks(ticks)\n",
    "plt.xticks(rotation=90)\n",
    "ax.set_yticks(ticks)\n",
    "ax.set_xticklabels(data.columns)\n",
    "ax.set_yticklabels(data.columns)\n",
    "plt.show()"
   ]
  }
 ],
 "metadata": {
  "colab": {
   "provenance": []
  },
  "kernelspec": {
   "display_name": "Python 3 (ipykernel)",
   "language": "python",
   "name": "python3"
  },
  "language_info": {
   "codemirror_mode": {
    "name": "ipython",
    "version": 3
   },
   "file_extension": ".py",
   "mimetype": "text/x-python",
   "name": "python",
   "nbconvert_exporter": "python",
   "pygments_lexer": "ipython3",
   "version": "3.8.10"
  }
 },
 "nbformat": 4,
 "nbformat_minor": 4
}
