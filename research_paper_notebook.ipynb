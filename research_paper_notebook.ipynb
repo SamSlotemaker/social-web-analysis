{
 "cells": [
  {
   "cell_type": "markdown",
   "metadata": {
    "id": "b9md1l85NKKr"
   },
   "source": [
    "*****************************************************************\n",
    "#  Research paper\n",
    "- Authors: Paul Koks, Izzie He, Lisanne van Vliet, Sam Slotemaker\n",
    "- TAs: Sandro Barres-Hamers, Alexander Schmatz, Márton Bodó and Danae Mitsea.\n",
    "*****************************************************************"
   ]
  },
  {
   "cell_type": "markdown",
   "metadata": {
    "id": "QCYcbwYYNKK1"
   },
   "source": [
    "## Installing the needed packages\n",
    "The following 2 cells install and import the needed packages\n"
   ]
  },
  {
   "cell_type": "code",
   "execution_count": null,
   "metadata": {
    "colab": {
     "base_uri": "https://localhost:8080/"
    },
    "id": "fD0fk-DkNKK2",
    "outputId": "4c5d92f6-7b69-4d13-eeee-65564d5ec33e",
    "tags": []
   },
   "outputs": [],
   "source": [
    "!pip install nltk"
   ]
  },
  {
   "cell_type": "code",
   "execution_count": null,
   "metadata": {},
   "outputs": [],
   "source": [
    "from nltk.classify import NaiveBayesClassifier\n",
    "from nltk.corpus import subjectivity\n",
    "from nltk.sentiment import SentimentAnalyzer\n",
    "from nltk.sentiment.util import *\n",
    "from nltk.sentiment.vader import SentimentIntensityAnalyzer\n",
    "nltk.download('subjectivity')\n",
    "nltk.download('vader_lexicon')\n",
    "\n",
    "import matplotlib.pyplot as plt\n",
    "import numpy as np"
   ]
  },
  {
   "cell_type": "markdown",
   "metadata": {},
   "source": [
    "## Store all comments from the CSV files with their corresponding movie ID\n",
    "This cell gets all data from the comment CSVs and puts it inside a map by its movie ID, so it can later be easily extracted"
   ]
  },
  {
   "cell_type": "code",
   "execution_count": 25,
   "metadata": {},
   "outputs": [
    {
     "name": "stdout",
     "output_type": "stream",
     "text": [
      "All comments are parsed and now stored inside the comments_by_movie_id variable!\n"
     ]
    }
   ],
   "source": [
    "import csv\n",
    "import os\n",
    "\n",
    "directory = 'datasets/comments'\n",
    "comments_by_movie_id = {}\n",
    "for filename in os.listdir(directory):\n",
    "    if filename.endswith('.csv'): \n",
    "        filepath = os.path.join(directory, filename)\n",
    "        with open(filepath, 'r') as file:\n",
    "            csv_reader = csv.DictReader(file)\n",
    "            data = [row for row in csv_reader]\n",
    "            fileName = filename.split('.')[0];\n",
    "            comments_by_movie_id[fileName] = data\n",
    "\n",
    "print(\"All comments are parsed and now stored inside the comments_by_movie_id variable!\")"
   ]
  },
  {
   "cell_type": "markdown",
   "metadata": {},
   "source": [
    "## Store the average sentiment of the trailer comments\n",
    "This cell will analyse all comments and store their sentiment score"
   ]
  },
  {
   "cell_type": "code",
   "execution_count": 15,
   "metadata": {},
   "outputs": [
    {
     "name": "stdout",
     "output_type": "stream",
     "text": [
      "All sentiments are analysed and stored inside the sentiment_by_movie_id variable!\n"
     ]
    }
   ],
   "source": [
    "from collections import Counter\n",
    "\n",
    "sentiment_by_movie_id = {}\n",
    "\n",
    "for movieId, comments in comments_by_movie_id.items():\n",
    "    sentiment_total = 0\n",
    "    for comment in comments:\n",
    "        sentence = comment['text']\n",
    "        sid = SentimentIntensityAnalyzer()\n",
    "        ss = sid.polarity_scores(sentence)\n",
    "        sentiment_total += ss['compound']\n",
    "\n",
    "    average_sentiment = sentiment_total / len(comments)\n",
    "    sentiment_by_movie_id[movieId] = average_sentiment\n",
    "\n",
    "print(\"All sentiments are analysed and stored inside the sentiment_by_movie_id variable!\")"
   ]
  },
  {
   "cell_type": "markdown",
   "metadata": {},
   "source": [
    "## Analisys\n",
    "The cell below takes our 40 movies, then, for every movie it plots it against the sentiment number "
   ]
  },
  {
   "cell_type": "code",
   "execution_count": 23,
   "metadata": {},
   "outputs": [
    {
     "data": {
      "image/png": "[encoded data removed]",
      "text/plain": [
       "<Figure size 640x480 with 1 Axes>"
      ]
     },
     "metadata": {},
     "output_type": "display_data"
    }
   ],
   "source": [
    "with open('datasets/40MoviesDataSet.csv', 'r') as file:\n",
    "    csv_reader = csv.DictReader(file)\n",
    "    movie_data = [row for row in csv_reader]\n",
    "\n",
    "# only does the first 10 for now because I dont have the other comments yet\n",
    "x =  [int(i['revenue']) for i in movie_data[:10]]\n",
    "y =  [sentiment_by_movie_id[i['id']] for i in movie_data[:10]]\n",
    "\n",
    "plt.scatter(x, y, s=10)\n",
    "\n",
    "plt.xlabel(\"Movie revenue\")\n",
    "plt.ylabel(\"Average sentiment\")\n",
    "\n",
    "plt.show()"
   ]
  }
 ],
 "metadata": {
  "colab": {
   "provenance": []
  },
  "kernelspec": {
   "display_name": "Python 3 (ipykernel)",
   "language": "python",
   "name": "python3"
  },
  "language_info": {
   "codemirror_mode": {
    "name": "ipython",
    "version": 3
   },
   "file_extension": ".py",
   "mimetype": "text/x-python",
   "name": "python",
   "nbconvert_exporter": "python",
   "pygments_lexer": "ipython3",
   "version": "3.8.10"
  }
 },
 "nbformat": 4,
 "nbformat_minor": 4
}
