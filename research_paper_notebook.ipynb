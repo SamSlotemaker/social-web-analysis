{
 "cells": [
  {
   "cell_type": "markdown",
   "metadata": {
    "id": "b9md1l85NKKr"
   },
   "source": [
    "*****************************************************************\n",
    "#  Research paper\n",
    "- Authors: Paul Koks, Izzie He, Lisanne van Vliet, Sam Slotemaker\n",
    "- TAs: Sandro Barres-Hamers, Alexander Schmatz, Márton Bodó and Danae Mitsea.\n",
    "*****************************************************************"
   ]
  },
  {
   "cell_type": "markdown",
   "metadata": {},
   "source": [
    "## Cleaning our data\n",
    "The one codeblock below does not need to be run, but just shows the function we used to clean our comment data"
   ]
  },
  {
   "cell_type": "code",
   "execution_count": 20,
   "metadata": {},
   "outputs": [],
   "source": [
    "def filter_comments(input_file, release_date):\n",
    "    try:\n",
    "        data = pd.read_csv(input_file)\n",
    "\n",
    "        # check 'publishedAt' format\n",
    "        data['publishedAt'] = pd.to_datetime(data['publishedAt'], format='%Y-%m-%d %H:%M:%S', errors='coerce')\n",
    "        # parse the release date\n",
    "        filter_date = pd.to_datetime(release_date, format='%m/%d/%y %H:%M')\n",
    "        # apply filters\n",
    "        filtered_data = data[(data['isReply'] == 0) & (data['publishedAt'] < filter_date)]\n",
    "        # delete two empty columns 'isReplyTo' and 'isReplyToName'\n",
    "        filtered_data = filtered_data.drop(columns=['isReplyTo', 'isReplyToName'], errors='ignore')\n",
    "        # Rank by 'likeCount' in descending order\n",
    "        filtered_data = filtered_data.sort_values(by='likeCount', ascending=False)\n",
    "        # limit to the top 100 comments\n",
    "        filtered_data = filtered_data.head(100)\n",
    "        # generate the output file name\n",
    "        base_name, ext = os.path.splitext(input_file)\n",
    "        output_file = f\"{base_name}_filtered{ext}\"\n",
    "        # Save the filtered data to a new CSV file\n",
    "        filtered_data.to_csv(output_file, index=False)\n",
    "\n",
    "        print(f\"Filtered data saved to {output_file}\")\n",
    "    except FileNotFoundError:\n",
    "        print(f\"Error: The file {input_file} was not found.\")\n",
    "    except KeyError as e:\n",
    "        print(f\"Error: The column {str(e)} is not in the CSV file.\")\n",
    "    except Exception as e:\n",
    "        print(f\"An error occurred: {e}\")"
   ]
  },
  {
   "cell_type": "markdown",
   "metadata": {
    "id": "QCYcbwYYNKK1"
   },
   "source": [
    "## Installing the needed packages\n",
    "The following 2 cells install and import the needed packages\n"
   ]
  },
  {
   "cell_type": "code",
   "execution_count": null,
   "metadata": {
    "colab": {
     "base_uri": "https://localhost:8080/"
    },
    "id": "fD0fk-DkNKK2",
    "outputId": "4c5d92f6-7b69-4d13-eeee-65564d5ec33e",
    "tags": []
   },
   "outputs": [],
   "source": [
    "!pip install nltk\n",
    "!pip install scikit-learn"
   ]
  },
  {
   "cell_type": "code",
   "execution_count": 1,
   "metadata": {},
   "outputs": [
    {
     "name": "stderr",
     "output_type": "stream",
     "text": [
      "[nltk_data] Downloading package vader_lexicon to\n",
      "[nltk_data]     /home/samsloot/nltk_data...\n",
      "[nltk_data]   Package vader_lexicon is already up-to-date!\n"
     ]
    }
   ],
   "source": [
    "from nltk.sentiment.util import *\n",
    "from nltk.sentiment.vader import SentimentIntensityAnalyzer\n",
    "nltk.download('vader_lexicon')\n",
    "\n",
    "import matplotlib.pyplot as plt\n",
    "import numpy as np\n",
    "import csv\n",
    "import os\n",
    "from scipy.stats import linregress\n",
    "import matplotlib.pyplot as plt\n",
    "import pandas as pd"
   ]
  },
  {
   "cell_type": "markdown",
   "metadata": {},
   "source": [
    "## Store all comments from the CSV files with their corresponding movie ID\n",
    "This cell gets all data from the comment CSVs and puts it inside a map by its movie ID, so it can later be easily extracted"
   ]
  },
  {
   "cell_type": "code",
   "execution_count": 2,
   "metadata": {},
   "outputs": [
    {
     "name": "stdout",
     "output_type": "stream",
     "text": [
      "All comments are parsed from 40 files and are stored inside the comments_by_movie_id variable!\n"
     ]
    }
   ],
   "source": [
    "directory = 'datasets/comments'\n",
    "comments_by_movie_id = {}\n",
    "# all fileNames must be [movieId].csv, where movieId is the ID from the dataset row, to make this work\n",
    "files_parsed = 0\n",
    "for filename in os.listdir(directory):\n",
    "    if filename.endswith('.csv'): \n",
    "        filepath = os.path.join(directory, filename)\n",
    "        with open(filepath, 'r') as file:\n",
    "            csv_reader = csv.DictReader(file)\n",
    "            data = [row for row in csv_reader]\n",
    "            fileName = filename.split('.')[0];\n",
    "            comments_by_movie_id[fileName] = data\n",
    "            files_parsed += 1\n",
    "\n",
    "print(f\"All comments are parsed from {files_parsed} files and are stored inside the comments_by_movie_id variable!\")"
   ]
  },
  {
   "cell_type": "markdown",
   "metadata": {},
   "source": [
    "## Store the average sentiment of the trailer comments\n",
    "This cell will analyse all comments and store their sentiment score"
   ]
  },
  {
   "cell_type": "code",
   "execution_count": 3,
   "metadata": {},
   "outputs": [
    {
     "name": "stdout",
     "output_type": "stream",
     "text": [
      "no comments found for:\n",
      "739405\n",
      "no comments found for:\n",
      "840326\n",
      "All sentiments are analysed and stored inside the sentiment_by_movie_id variable!\n"
     ]
    }
   ],
   "source": [
    "sid = SentimentIntensityAnalyzer()\n",
    "sentiment_by_movie_id = {}\n",
    "\n",
    "for movieId, comments in comments_by_movie_id.items():\n",
    "    sentiment_total = 0\n",
    "    for comment in comments:\n",
    "        sentence = comment['text']\n",
    "        ss = sid.polarity_scores(sentence)\n",
    "        sentiment_total += ss['compound']\n",
    "        average_sentiment = 0;\n",
    "\n",
    "    # some comment files are broken so added this check to not break the code\n",
    "    if len(comments) != 0:\n",
    "        average_sentiment = sentiment_total / len(comments)\n",
    "    else: \n",
    "        print('no comments found for:')\n",
    "        print(movieId)\n",
    "        \n",
    "    sentiment_by_movie_id[movieId] = average_sentiment\n",
    "\n",
    "print(\"All sentiments are analysed and stored inside the sentiment_by_movie_id variable!\")"
   ]
  },
  {
   "cell_type": "markdown",
   "metadata": {},
   "source": [
    "## Analysis\n",
    "lets take the movies and strore them in movie_data, and define a some function that we can use later on to check the relation between variables "
   ]
  },
  {
   "cell_type": "code",
   "execution_count": 9,
   "metadata": {},
   "outputs": [],
   "source": [
    "with open('datasets/40MoviesDataSet.csv', 'r') as file:\n",
    "    csv_reader = csv.DictReader(file)\n",
    "    movie_data = [row for row in csv_reader]\n",
    "    \n",
    "def getTrailerViews(movie):\n",
    "    viewCount = int(movie['viewCount'])\n",
    "    return viewCount\n",
    "    \n",
    "def getMovieBoxOffice(movie):\n",
    "    return int(movie['revenue'])\n",
    "\n",
    "def getMovieStat(callback):\n",
    "    return [callback(movie) for movie in movie_data]\n",
    "\n",
    "def scatterPlot(xArray, xLabel, yArray, yLabel):    \n",
    "    plt.scatter(xArray, yArray, s=10)\n",
    "    \n",
    "    plt.xlabel(xLabel)\n",
    "    plt.ylabel(yLabel)\n",
    "    \n",
    "    # Calculate correlation line\n",
    "    slope, intercept, r_value, p_value, std_err = linregress(xArray, yArray)\n",
    "    line = [slope * x + intercept for x in xArray]\n",
    "    \n",
    "    # Plot correlation line\n",
    "    plt.plot(xArray, line, color='red', label=f\"Fit line (R² = {r_value**2:.2f})\")\n",
    "    \n",
    "    plt.show()"
   ]
  },
  {
   "cell_type": "code",
   "execution_count": 11,
   "metadata": {},
   "outputs": [
    {
     "data": {
      "image/png": "[encoded data removed]",
      "text/plain": [
       "<Figure size 640x480 with 1 Axes>"
      ]
     },
     "metadata": {},
     "output_type": "display_data"
    }
   ],
   "source": [
    "box_offices = getMovieStat(getMovieBoxOffice)\n",
    "trailer_views = getMovieStat(getTrailerViews)\n",
    "\n",
    "scatterPlot(box_offices, \"Movie revenue\", trailer_views, \"Trailer views\")"
   ]
  },
  {
   "cell_type": "markdown",
   "metadata": {},
   "source": [
    "Is looks like there is indeed an upwards trend, regariding the trailer views and the movie revenue, lets try to see if there is a variable with a bigger correlation:"
   ]
  },
  {
   "cell_type": "markdown",
   "metadata": {},
   "source": [
    "The cell below also take the trailer like ratio and sentiment score into account and shows a correlation_matrix between the variables"
   ]
  },
  {
   "cell_type": "code",
   "execution_count": 15,
   "metadata": {},
   "outputs": [
    {
     "name": "stdout",
     "output_type": "stream",
     "text": [
      "                         box office  trailer views  trailer likes  \\\n",
      "box office                 1.000000       0.775288       0.822540   \n",
      "trailer views              0.775288       1.000000       0.691832   \n",
      "trailer likes              0.822540       0.691832       1.000000   \n",
      "trailer sentiment score    0.741577       0.611164       0.850781   \n",
      "\n",
      "                         trailer sentiment score  \n",
      "box office                              0.741577  \n",
      "trailer views                           0.611164  \n",
      "trailer likes                           0.850781  \n",
      "trailer sentiment score                 1.000000  \n"
     ]
    }
   ],
   "source": [
    "def getSentimentScore(movie):\n",
    "    sentimentScore = sentiment_by_movie_id[movie['id']]\n",
    "    return sentimentScore * int(movie['commentCount'])  \n",
    "    \n",
    "def getTrailerLikes(movie):\n",
    "    return int(movie['likeCount'])\n",
    "\n",
    "trailer_likes = getMovieStat(getTrailerLikes)\n",
    "trailer_sentiment_score = getMovieStat(getSentimentScore)\n",
    "\n",
    "x = np.column_stack((trailer_views, trailer_likes, trailer_sentiment_score))\n",
    "y = np.array(box_offices)\n",
    "\n",
    "# Create a dataframe for easier correlation analysis\n",
    "data = pd.DataFrame({\n",
    "    \"box office\": box_offices,\n",
    "    \"trailer views\": trailer_views,\n",
    "    \"trailer likes\": trailer_likes,\n",
    "    \"trailer sentiment score\": trailer_sentiment_score,\n",
    "})\n",
    "\n",
    "# Compute the correlation matrix\n",
    "correlation_matrix = data.corr()\n",
    "print(correlation_matrix)"
   ]
  },
  {
   "cell_type": "markdown",
   "metadata": {},
   "source": [
    "We can also visualise this correlation matrix with a heatmap"
   ]
  },
  {
   "cell_type": "code",
   "execution_count": null,
   "metadata": {},
   "outputs": [],
   "source": [
    "fig = plt.figure()\n",
    "ax = fig.add_subplot(111)\n",
    "cax = ax.matshow(correlation_matrix,cmap='coolwarm', vmin=-1, vmax=1)\n",
    "fig.colorbar(cax)\n",
    "ticks = np.arange(0,len(data.columns),1)\n",
    "ax.set_xticks(ticks)\n",
    "plt.xticks(rotation=90)\n",
    "ax.set_yticks(ticks)\n",
    "ax.set_xticklabels(data.columns)\n",
    "ax.set_yticklabels(data.columns)\n",
    "plt.show()"
   ]
  },
  {
   "cell_type": "markdown",
   "metadata": {},
   "source": [
    "## Box office correlation\n",
    "We are most interested in a correlation between variables and the box office, it looks like the strongest correlation is between box office and the amount of likes the trailer gets, lets plot this relation:"
   ]
  },
  {
   "cell_type": "code",
   "execution_count": 17,
   "metadata": {},
   "outputs": [
    {
     "data": {
      "image/png": "[encoded data removed]",
      "text/plain": [
       "<Figure size 640x480 with 1 Axes>"
      ]
     },
     "metadata": {},
     "output_type": "display_data"
    }
   ],
   "source": [
    "scatterPlot(box_offices, \"Movie revenue\", trailer_likes, \"Trailer likes\")"
   ]
  }
 ],
 "metadata": {
  "colab": {
   "provenance": []
  },
  "kernelspec": {
   "display_name": "Python 3 (ipykernel)",
   "language": "python",
   "name": "python3"
  },
  "language_info": {
   "codemirror_mode": {
    "name": "ipython",
    "version": 3
   },
   "file_extension": ".py",
   "mimetype": "text/x-python",
   "name": "python",
   "nbconvert_exporter": "python",
   "pygments_lexer": "ipython3",
   "version": "3.8.10"
  }
 },
 "nbformat": 4,
 "nbformat_minor": 4
}
