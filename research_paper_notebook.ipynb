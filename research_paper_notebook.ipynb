{
 "cells": [
  {
   "cell_type": "markdown",
   "metadata": {
    "id": "b9md1l85NKKr"
   },
   "source": [
    "*****************************************************************\n",
    "#  Research paper\n",
    "- Authors: Paul Koks, Izzie He, Lisanne van Vliet, Sam Slotemaker\n",
    "- TAs: Sandro Barres-Hamers, Alexander Schmatz, Márton Bodó and Danae Mitsea.\n",
    "*****************************************************************"
   ]
  },
  {
   "cell_type": "markdown",
   "metadata": {
    "id": "QCYcbwYYNKK1"
   },
   "source": [
    "## Installing the needed packages\n",
    "The following 2 cells install and import the needed packages\n"
   ]
  },
  {
   "cell_type": "code",
   "execution_count": null,
   "metadata": {
    "colab": {
     "base_uri": "https://localhost:8080/"
    },
    "id": "fD0fk-DkNKK2",
    "outputId": "4c5d92f6-7b69-4d13-eeee-65564d5ec33e",
    "tags": []
   },
   "outputs": [],
   "source": [
    "!pip install nltk\n",
    "!pip install scipy"
   ]
  },
  {
   "cell_type": "code",
   "execution_count": 4,
   "metadata": {},
   "outputs": [],
   "source": [
    "from nltk.sentiment.util import *\n",
    "from nltk.sentiment.vader import SentimentIntensityAnalyzer\n",
    "nltk.download('vader_lexicon')\n",
    "\n",
    "import matplotlib.pyplot as plt\n",
    "import numpy as np"
   ]
  },
  {
   "cell_type": "markdown",
   "metadata": {},
   "source": [
    "## Store all comments from the CSV files with their corresponding movie ID\n",
    "This cell gets all data from the comment CSVs and puts it inside a map by its movie ID, so it can later be easily extracted"
   ]
  },
  {
   "cell_type": "code",
   "execution_count": 18,
   "metadata": {},
   "outputs": [
    {
     "name": "stdout",
     "output_type": "stream",
     "text": [
      "All comments are parsed from 40 files and are stored inside the comments_by_movie_id variable!\n"
     ]
    }
   ],
   "source": [
    "import csv\n",
    "import os\n",
    "\n",
    "directory = 'datasets/comments'\n",
    "comments_by_movie_id = {}\n",
    "# all fileNames must be [movieId].csv, where movieId is the ID from the dataset row, to make this work\n",
    "files_parsed = 0\n",
    "for filename in os.listdir(directory):\n",
    "    if filename.endswith('.csv'): \n",
    "        filepath = os.path.join(directory, filename)\n",
    "        with open(filepath, 'r') as file:\n",
    "            csv_reader = csv.DictReader(file)\n",
    "            data = [row for row in csv_reader]\n",
    "            fileName = filename.split('.')[0];\n",
    "            comments_by_movie_id[fileName] = data\n",
    "            files_parsed += 1\n",
    "\n",
    "print(f\"All comments are parsed from {files_parsed} files and are stored inside the comments_by_movie_id variable!\")"
   ]
  },
  {
   "cell_type": "markdown",
   "metadata": {},
   "source": [
    "## Store the average sentiment of the trailer comments\n",
    "This cell will analyse all comments and store their sentiment score"
   ]
  },
  {
   "cell_type": "code",
   "execution_count": 22,
   "metadata": {},
   "outputs": [
    {
     "name": "stdout",
     "output_type": "stream",
     "text": [
      "no comments found for:\n",
      "739405\n",
      "no comments found for:\n",
      "840326\n",
      "All sentiments are analysed and stored inside the sentiment_by_movie_id variable!\n"
     ]
    }
   ],
   "source": [
    "from collections import Counter\n",
    "sid = SentimentIntensityAnalyzer()\n",
    "\n",
    "sentiment_by_movie_id = {}\n",
    "\n",
    "for movieId, comments in comments_by_movie_id.items():\n",
    "    sentiment_total = 0\n",
    "    for comment in comments:\n",
    "        sentence = comment['text']\n",
    "        ss = sid.polarity_scores(sentence)\n",
    "        sentiment_total += ss['compound']\n",
    "        average_sentiment = 0;\n",
    "\n",
    "    # some comment files are broken so added this check to not break the code\n",
    "    if len(comments) != 0:\n",
    "        average_sentiment = sentiment_total / len(comments)\n",
    "    else: \n",
    "        print('no comments found for:')\n",
    "        print(movieId)\n",
    "        \n",
    "    sentiment_by_movie_id[movieId] = average_sentiment\n",
    "\n",
    "print(\"All sentiments are analysed and stored inside the sentiment_by_movie_id variable!\")"
   ]
  },
  {
   "cell_type": "markdown",
   "metadata": {},
   "source": [
    "## Analysis\n",
    "The cell below takes our 40 movies, then, for every movie it plots it against the trailer score number "
   ]
  },
  {
   "cell_type": "code",
   "execution_count": 27,
   "metadata": {},
   "outputs": [
    {
     "data": {
      "image/png": "[encoded data removed]",
      "text/plain": [
       "<Figure size 640x480 with 1 Axes>"
      ]
     },
     "metadata": {},
     "output_type": "display_data"
    }
   ],
   "source": [
    "with open('datasets/40MoviesDataSet.csv', 'r') as file:\n",
    "    csv_reader = csv.DictReader(file)\n",
    "    movie_data = [row for row in csv_reader]\n",
    "\n",
    "def getTrailerScore(movie):\n",
    "    sentimentScore = sentiment_by_movie_id[movie['id']]\n",
    "    viewCount = int(movie['viewCount'])\n",
    "    return sentimentScore * viewCount\n",
    "\n",
    "def getMovieBoxOffice(movie):\n",
    "    return int(movie['revenue'])\n",
    "\n",
    "box_office = [getMovieBoxOffice(movie) for movie in movie_data]\n",
    "trailer_score = [getTrailerScore(movie) for movie in movie_data]\n",
    "\n",
    "plt.scatter(box_office, trailer_score, s=10)\n",
    "\n",
    "plt.xlabel(\"Movie revenue\")\n",
    "plt.ylabel(\"Trailer score\")\n",
    "\n",
    "plt.show()"
   ]
  },
  {
   "cell_type": "markdown",
   "metadata": {},
   "source": [
    "### Correlation\n",
    "The cell below takes the movie box office & trailer score and checks if there is a correlation between the two"
   ]
  },
  {
   "cell_type": "code",
   "execution_count": 28,
   "metadata": {},
   "outputs": [
    {
     "name": "stdout",
     "output_type": "stream",
     "text": [
      "correlation number is 0.7500225383392957.\n"
     ]
    }
   ],
   "source": [
    "from scipy.stats import pearsonr\n",
    "\n",
    "corr, _ = pearsonr(box_office, trailer_score)\n",
    "print(f\"correlation number is {corr}.\")"
   ]
  }
 ],
 "metadata": {
  "colab": {
   "provenance": []
  },
  "kernelspec": {
   "display_name": "Python 3 (ipykernel)",
   "language": "python",
   "name": "python3"
  },
  "language_info": {
   "codemirror_mode": {
    "name": "ipython",
    "version": 3
   },
   "file_extension": ".py",
   "mimetype": "text/x-python",
   "name": "python",
   "nbconvert_exporter": "python",
   "pygments_lexer": "ipython3",
   "version": "3.8.10"
  }
 },
 "nbformat": 4,
 "nbformat_minor": 4
}
