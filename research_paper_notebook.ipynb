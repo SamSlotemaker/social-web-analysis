{
 "cells": [
  {
   "cell_type": "markdown",
   "metadata": {
    "id": "b9md1l85NKKr"
   },
   "source": [
    "*****************************************************************\n",
    "#  Research paper\n",
    "- Authors: Paul Koks, Izzie He, Lisanne van Vliet, Sam Slotemaker\n",
    "- TAs: Sandro Barres-Hamers, Alexander Schmatz, Márton Bodó and Danae Mitsea.\n",
    "*****************************************************************"
   ]
  },
  {
   "cell_type": "markdown",
   "metadata": {
    "id": "QCYcbwYYNKK1"
   },
   "source": [
    "Install the NLTK package:\n"
   ]
  },
  {
   "cell_type": "code",
   "execution_count": 1,
   "metadata": {
    "colab": {
     "base_uri": "https://localhost:8080/"
    },
    "id": "fD0fk-DkNKK2",
    "outputId": "4c5d92f6-7b69-4d13-eeee-65564d5ec33e",
    "tags": []
   },
   "outputs": [
    {
     "name": "stdout",
     "output_type": "stream",
     "text": [
      "Requirement already satisfied: nltk in /mnt/d/Vrije Universiteit/jaar2/Social Web/socialEnv/lib/python3.8/site-packages (3.9.1)\n",
      "Requirement already satisfied: tqdm in /mnt/d/Vrije Universiteit/jaar2/Social Web/socialEnv/lib/python3.8/site-packages (from nltk) (4.67.1)\n",
      "Requirement already satisfied: joblib in /mnt/d/Vrije Universiteit/jaar2/Social Web/socialEnv/lib/python3.8/site-packages (from nltk) (1.4.2)\n",
      "Requirement already satisfied: click in /mnt/d/Vrije Universiteit/jaar2/Social Web/socialEnv/lib/python3.8/site-packages (from nltk) (8.1.7)\n",
      "Requirement already satisfied: regex>=2021.8.3 in /mnt/d/Vrije Universiteit/jaar2/Social Web/socialEnv/lib/python3.8/site-packages (from nltk) (2024.11.6)\n"
     ]
    }
   ],
   "source": [
    "!pip install nltk"
   ]
  },
  {
   "cell_type": "code",
   "execution_count": 28,
   "metadata": {},
   "outputs": [
    {
     "name": "stderr",
     "output_type": "stream",
     "text": [
      "[nltk_data] Downloading package subjectivity to\n",
      "[nltk_data]     /home/samsloot/nltk_data...\n",
      "[nltk_data]   Package subjectivity is already up-to-date!\n",
      "[nltk_data] Downloading package vader_lexicon to\n",
      "[nltk_data]     /home/samsloot/nltk_data...\n",
      "[nltk_data]   Package vader_lexicon is already up-to-date!\n"
     ]
    }
   ],
   "source": [
    "from nltk.classify import NaiveBayesClassifier\n",
    "from nltk.corpus import subjectivity\n",
    "from nltk.sentiment import SentimentAnalyzer\n",
    "from nltk.sentiment.util import *\n",
    "from nltk.sentiment.vader import SentimentIntensityAnalyzer\n",
    "nltk.download('subjectivity')\n",
    "nltk.download('vader_lexicon')\n",
    "\n",
    "import matplotlib.pyplot as plt\n",
    "import numpy as np"
   ]
  },
  {
   "cell_type": "code",
   "execution_count": 3,
   "metadata": {},
   "outputs": [
    {
     "name": "stdout",
     "output_type": "stream",
     "text": [
      "0.44246970023674814\n"
     ]
    }
   ],
   "source": [
    "import csv\n",
    "\n",
    "with open('datasets/comments/barbie_comments.csv', 'r') as file:\n",
    "    csv_reader = csv.DictReader(file)\n",
    "    data = [row for row in csv_reader]\n",
    "    \n",
    "# filter out responses\n",
    "filteredComments = [a for a in data if a['text'][0] != '@']\n",
    "\n",
    "totalScore = 0\n",
    "totalAmount = 0\n",
    "for comment in filteredComments:\n",
    "    sentence = comment['text']\n",
    "    \n",
    "    sid = SentimentIntensityAnalyzer()\n",
    "    ss = sid.polarity_scores(sentence)\n",
    "    \n",
    "    sentimentScore = ss['compound']\n",
    "    commentLikes = float(comment['likeCount'])\n",
    "    \n",
    "    # make sentiment score weigh based on the amount of likes\n",
    "    totalScore += sentimentScore * commentLikes\n",
    "    totalAmount += 1 + commentLikes\n",
    "\n",
    "# print(totalAmount)\n",
    "print(totalScore / totalAmount)"
   ]
  },
  {
   "cell_type": "code",
   "execution_count": 34,
   "metadata": {},
   "outputs": [
    {
     "data": {
      "image/png": "[encoded data removed]",
      "text/plain": [
       "<Figure size 640x480 with 1 Axes>"
      ]
     },
     "metadata": {},
     "output_type": "display_data"
    }
   ],
   "source": [
    "with open('datasets/40MoviesDataSet.csv', 'r') as file:\n",
    "    csv_reader = csv.DictReader(file)\n",
    "    movie_data = [row for row in csv_reader]\n",
    "\n",
    "x =  [int(i['revenue']) for i in movie_data]\n",
    "y =  [int(i['viewCount']) for i in movie_data]\n",
    "\n",
    "plt.scatter(x, y, s=10)\n",
    "\n",
    "plt.xlabel(\"Movie revenue\")\n",
    "plt.ylabel(\"Trailer views\")\n",
    "\n",
    "plt.show()"
   ]
  }
 ],
 "metadata": {
  "colab": {
   "provenance": []
  },
  "kernelspec": {
   "display_name": "Python 3 (ipykernel)",
   "language": "python",
   "name": "python3"
  },
  "language_info": {
   "codemirror_mode": {
    "name": "ipython",
    "version": 3
   },
   "file_extension": ".py",
   "mimetype": "text/x-python",
   "name": "python",
   "nbconvert_exporter": "python",
   "pygments_lexer": "ipython3",
   "version": "3.8.10"
  }
 },
 "nbformat": 4,
 "nbformat_minor": 4
}
